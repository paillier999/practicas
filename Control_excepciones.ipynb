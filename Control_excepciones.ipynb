{
 "cells": [
  {
   "cell_type": "code",
   "execution_count": 4,
   "id": "33e0bba7",
   "metadata": {
    "scrolled": true
   },
   "outputs": [
    {
     "name": "stdout",
     "output_type": "stream",
     "text": [
      "Introduce el primer número: 8\n",
      "Introduce el primer número: 0\n",
      "No e sposible dividir entre 0\n",
      "Cálculo finalizado\n"
     ]
    }
   ],
   "source": [
    "#Control de excepciones en bloque\n",
    "def divide():\n",
    "    \n",
    "    try:\n",
    "        \n",
    "        op1 = float(input(\"Introduce el primer número: \"))\n",
    "    \n",
    "        op2 = float(input(\"Introduce el primer número: \"))\n",
    "    \n",
    "        print(\"La división es: \" + str(op1/op2))\n",
    "        \n",
    "    except ValueError:\n",
    "            \n",
    "        print(\"El valor introducido es erróneo\")\n",
    "        \n",
    "    except ZeroDivisionError:\n",
    "        \n",
    "        print(\"No e sposible dividir entre 0\")\n",
    "    \n",
    "    print(\"Cálculo finalizado\")\n",
    "    \n",
    "divide()"
   ]
  },
  {
   "cell_type": "code",
   "execution_count": null,
   "id": "4dcf2cb1",
   "metadata": {},
   "outputs": [],
   "source": []
  }
 ],
 "metadata": {
  "kernelspec": {
   "display_name": "Python 3 (ipykernel)",
   "language": "python",
   "name": "python3"
  },
  "language_info": {
   "codemirror_mode": {
    "name": "ipython",
    "version": 3
   },
   "file_extension": ".py",
   "mimetype": "text/x-python",
   "name": "python",
   "nbconvert_exporter": "python",
   "pygments_lexer": "ipython3",
   "version": "3.11.3"
  }
 },
 "nbformat": 4,
 "nbformat_minor": 5
}
